{
 "cells": [
  {
   "cell_type": "code",
   "execution_count": 15,
   "id": "2b50f7b5-2af4-4b97-a7f5-729edd202075",
   "metadata": {},
   "outputs": [],
   "source": [
    "# import libraries\n",
    "\n",
    "from bs4 import BeautifulSoup\n",
    "import requests\n",
    "import time\n",
    "import datetime\n",
    "\n"
   ]
  },
  {
   "cell_type": "code",
   "execution_count": 40,
   "id": "493f4d51-d1a8-4eae-a710-edfa3cf9f6a1",
   "metadata": {},
   "outputs": [
    {
     "name": "stdout",
     "output_type": "stream",
     "text": [
      "        Got Data Funny Business Data Analyst T-Shirt       \n",
      "$15.99\n"
     ]
    }
   ],
   "source": [
    "# Connect to Website and pull in data\n",
    "\n",
    "# URL = 'https://www.amazon.com/Funny-Data-Systems-Business-Analyst/dp/B07FNW9FGJ/ref=sr_1_3?dchild=1&keywords=data%2Banalyst%2Btshirt&qid=1626655184&sr=8-3&customId=B0752XJYNL&th=1'\n",
    "\n",
    "# headers = {\"User-Agent\": \"Mozilla/5.0 (Windows NT 10.0; Win64; x64) AppleWebKit/537.36 (KHTML, like Gecko) Chrome/138.0.0.0 Safari/537.36\"}\n",
    "\n",
    "# page = requests.get(URL, headers=headers)\n",
    "\n",
    "with open(\"C:/Users/benja/Desktop/Cheyenne Portfolio/Amazon.com_ Got Data Funny Business Data Analyst T-Shirt _ Clothing, Shoes & Jewelry.html\",\"rb\") as f:\n",
    "    page=f.read()\n",
    "\n",
    "soup1= BeautifulSoup(page, \"html.parser\")\n",
    "\n",
    "title = soup1.find(id='productTitle').get_text()\n",
    "\n",
    "price= soup1.find(id='corePriceDisplay_desktop_feature_div').get_text().split()[0]\n",
    "\n",
    "print(title)\n",
    "print(price)"
   ]
  },
  {
   "cell_type": "code",
   "execution_count": 41,
   "id": "c37e37e0-8ac7-418f-8781-c36f9f713559",
   "metadata": {},
   "outputs": [
    {
     "name": "stdout",
     "output_type": "stream",
     "text": [
      "Got Data Funny Business Data Analyst T-Shirt\n",
      "15.99\n"
     ]
    }
   ],
   "source": [
    "# Clean up the data a little bit\n",
    "\n",
    "price=price[1:]\n",
    "title=title.strip()\n",
    "\n",
    "print(title)\n",
    "print(price)"
   ]
  },
  {
   "cell_type": "code",
   "execution_count": 50,
   "id": "8c2cdac4-891c-42b4-8894-53962a6e080a",
   "metadata": {
    "collapsed": true,
    "jupyter": {
     "outputs_hidden": true
    }
   },
   "outputs": [
    {
     "name": "stdout",
     "output_type": "stream",
     "text": [
      "2025-07-13\n"
     ]
    }
   ],
   "source": [
    "# Create a Timestamp for your output to track when data was collected\n",
    "\n",
    "import datetime\n",
    "\n",
    "today = datetime.date.today()\n",
    "\n",
    "print(today)\n",
    "\n"
   ]
  },
  {
   "cell_type": "code",
   "execution_count": 51,
   "id": "54876e19-e7d4-451c-a4c0-47e848e362ef",
   "metadata": {},
   "outputs": [],
   "source": [
    "# Create CSV and write headers and data into the file\n",
    "\n",
    "import csv\n",
    "\n",
    "header = ['Title', 'Price', 'Date']\n",
    "data = [title, price, today]\n",
    "\n",
    "# with open('AmazonWebScraperDataset.csv', 'w', newline='', encoding='UTF8') as f:\n",
    "#         writer = csv.writer(f)\n",
    "#         writer.writerow(header)\n",
    "#         writer.writerow(data)\n"
   ]
  },
  {
   "cell_type": "code",
   "execution_count": null,
   "id": "eac577c5-237a-475a-b35b-46b4855c5781",
   "metadata": {},
   "outputs": [],
   "source": [
    "import pandas as pd\n",
    "\n",
    "df = pd.read_csv(r'C:\\Users\\benja\\AmazonWebScraperDataset.csv')\n",
    "\n",
    "print(df)\n"
   ]
  },
  {
   "cell_type": "code",
   "execution_count": null,
   "id": "80194aba-03ed-409a-9b62-942daff757cc",
   "metadata": {},
   "outputs": [],
   "source": [
    "#Now we are appending data to the csv\n",
    "\n",
    "with open('AmazonWebScraperDataset.csv', 'a+', newline='', encoding='UTF8') as f:\n",
    "        writer = csv.writer(f)\n",
    "        writer.writerow(data)"
   ]
  },
  {
   "cell_type": "code",
   "execution_count": null,
   "id": "23c7dde3-2363-42a4-8d7c-380acceded5c",
   "metadata": {},
   "outputs": [],
   "source": [
    "#Combine all of the above code into one function\n",
    "\n",
    "def check_price():\n",
    "    with open(\"C:/Users/benja/Desktop/Cheyenne Portfolio/Amazon.com_ Got Data Funny Business Data Analyst T-Shirt _ Clothing, Shoes & Jewelry.html\",\"rb\") as f:\n",
    "        page=f.read()\n",
    "\n",
    "    soup1= BeautifulSoup(page, \"html.parser\")\n",
    "    title = soup1.find(id='productTitle').get_text()\n",
    "    price= soup1.find(id='corePriceDisplay_desktop_feature_div').get_text().split()[0]\n",
    "\n",
    "    price=price[1:]\n",
    "    title=title.strip()\n",
    "\n",
    "    import datetime\n",
    "    today = datetime.date.today()\n",
    "\n",
    "    import csv\n",
    "    header = ['Title', 'Price', 'Date']\n",
    "    data = [title, price, today]\n",
    "\n",
    "    with open('AmazonWebScraperDataset.csv', 'a+', newline='', encoding='UTF8') as f:\n",
    "        writer = csv.writer(f)\n",
    "        writer.writerow(data)\n"
   ]
  },
  {
   "cell_type": "code",
   "execution_count": null,
   "id": "8ecdf167-baa0-4292-bb88-f570c225cfa9",
   "metadata": {},
   "outputs": [],
   "source": [
    "# Runs check_price after a set time and inputs data into your CSV\n",
    "\n",
    "while(True):\n",
    "        check_price()\n",
    "        time.sleep(86400)"
   ]
  },
  {
   "cell_type": "code",
   "execution_count": 68,
   "id": "cca7abe8-71a4-4767-b5fe-9ec709048178",
   "metadata": {},
   "outputs": [
    {
     "name": "stdout",
     "output_type": "stream",
     "text": [
      "                                           Title  Price        Date\n",
      "0   Got Data Funny Business Data Analyst T-Shirt  15.99  2025-07-13\n",
      "1   Got Data Funny Business Data Analyst T-Shirt  15.99  2025-07-13\n",
      "2   Got Data Funny Business Data Analyst T-Shirt  15.99  2025-07-13\n",
      "3   Got Data Funny Business Data Analyst T-Shirt  15.99  2025-07-13\n",
      "4   Got Data Funny Business Data Analyst T-Shirt  15.99  2025-07-13\n",
      "5   Got Data Funny Business Data Analyst T-Shirt  15.99  2025-07-13\n",
      "6   Got Data Funny Business Data Analyst T-Shirt  15.99  2025-07-13\n",
      "7   Got Data Funny Business Data Analyst T-Shirt  15.99  2025-07-13\n",
      "8   Got Data Funny Business Data Analyst T-Shirt  15.99  2025-07-13\n",
      "9   Got Data Funny Business Data Analyst T-Shirt  15.99  2025-07-13\n",
      "10  Got Data Funny Business Data Analyst T-Shirt  15.99  2025-07-13\n",
      "11  Got Data Funny Business Data Analyst T-Shirt  15.99  2025-07-13\n",
      "12  Got Data Funny Business Data Analyst T-Shirt  15.99  2025-07-13\n",
      "13  Got Data Funny Business Data Analyst T-Shirt  15.99  2025-07-13\n",
      "14  Got Data Funny Business Data Analyst T-Shirt  15.99  2025-07-13\n",
      "15  Got Data Funny Business Data Analyst T-Shirt  15.99  2025-07-13\n",
      "16  Got Data Funny Business Data Analyst T-Shirt  15.99  2025-07-13\n",
      "17  Got Data Funny Business Data Analyst T-Shirt  15.99  2025-07-13\n",
      "18  Got Data Funny Business Data Analyst T-Shirt  15.99  2025-07-13\n",
      "19  Got Data Funny Business Data Analyst T-Shirt  15.99  2025-07-13\n",
      "20  Got Data Funny Business Data Analyst T-Shirt  15.99  2025-07-13\n",
      "21  Got Data Funny Business Data Analyst T-Shirt  15.99  2025-07-13\n",
      "22  Got Data Funny Business Data Analyst T-Shirt  15.99  2025-07-13\n",
      "23  Got Data Funny Business Data Analyst T-Shirt  15.99  2025-07-13\n",
      "24  Got Data Funny Business Data Analyst T-Shirt  15.99  2025-07-13\n",
      "25  Got Data Funny Business Data Analyst T-Shirt  15.99  2025-07-13\n",
      "26  Got Data Funny Business Data Analyst T-Shirt  15.99  2025-07-13\n",
      "27  Got Data Funny Business Data Analyst T-Shirt  15.99  2025-07-13\n",
      "28  Got Data Funny Business Data Analyst T-Shirt  15.99  2025-07-13\n"
     ]
    }
   ],
   "source": [
    "import pandas as pd\n",
    "\n",
    "df = pd.read_csv(r'C:\\Users\\benja\\AmazonWebScraperDataset.csv')\n",
    "\n",
    "print(df)"
   ]
  },
  {
   "cell_type": "code",
   "execution_count": null,
   "id": "33e139a6-cf59-4588-977a-411b3b05aaf1",
   "metadata": {},
   "outputs": [],
   "source": []
  }
 ],
 "metadata": {
  "kernelspec": {
   "display_name": "Python 3 (ipykernel)",
   "language": "python",
   "name": "python3"
  },
  "language_info": {
   "codemirror_mode": {
    "name": "ipython",
    "version": 3
   },
   "file_extension": ".py",
   "mimetype": "text/x-python",
   "name": "python",
   "nbconvert_exporter": "python",
   "pygments_lexer": "ipython3",
   "version": "3.11.9"
  }
 },
 "nbformat": 4,
 "nbformat_minor": 5
}
